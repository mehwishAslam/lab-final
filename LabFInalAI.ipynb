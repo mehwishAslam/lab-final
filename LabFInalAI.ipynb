{
  "nbformat": 4,
  "nbformat_minor": 0,
  "metadata": {
    "colab": {
      "provenance": []
    },
    "kernelspec": {
      "name": "python3",
      "display_name": "Python 3"
    },
    "language_info": {
      "name": "python"
    }
  },
  "cells": [
    {
      "cell_type": "code",
      "execution_count": null,
      "metadata": {
        "id": "KkfSbw207W4F"
      },
      "outputs": [],
      "source": [
        "import tensorflow as tf\n",
        "from tensorflow.keras import layers, models\n",
        "from tensorflow.keras.preprocessing.image import ImageDataGenerator\n",
        "from tensorflow.keras.optimizers import Adam\n",
        "from sklearn.model_selection import train_test_split\n",
        "import numpy as np"
      ]
    },
    {
      "cell_type": "code",
      "source": [
        "cifar10 = tf.keras.datasets.cifar10\n",
        "(train_images, train_labels), (test_images, test_labels) = cifar10.load_data()"
      ],
      "metadata": {
        "colab": {
          "base_uri": "https://localhost:8080/"
        },
        "id": "961mrKfc7dHs",
        "outputId": "90fbc024-c88e-4dd8-b3e1-6996c3be771a"
      },
      "execution_count": null,
      "outputs": [
        {
          "output_type": "stream",
          "name": "stdout",
          "text": [
            "Downloading data from https://www.cs.toronto.edu/~kriz/cifar-10-python.tar.gz\n",
            "170498071/170498071 [==============================] - 3s 0us/step\n"
          ]
        }
      ]
    },
    {
      "cell_type": "code",
      "source": [
        "train_images, val_images, train_labels, val_labels = train_test_split(\n",
        "    train_images, train_labels, test_size=0.2, random_state=42\n",
        ")\n",
        "\n",
        "train_images = train_images / 255.0\n",
        "val_images = val_images / 255.0\n",
        "test_images = test_images / 255.0"
      ],
      "metadata": {
        "id": "MSp3mDBs7m-0"
      },
      "execution_count": null,
      "outputs": []
    },
    {
      "cell_type": "code",
      "source": [
        "datagen = ImageDataGenerator(\n",
        "    rotation_range=20,\n",
        "    width_shift_range=0.2,\n",
        "    height_shift_range=0.2,\n",
        "    horizontal_flip=True,\n",
        ")\n",
        "\n",
        "datagen.fit(train_images)\n"
      ],
      "metadata": {
        "id": "O9jzWCRM7suq"
      },
      "execution_count": null,
      "outputs": []
    },
    {
      "cell_type": "code",
      "source": [
        "model = models.Sequential()\n",
        "model.add(layers.Conv2D(32, (3, 3), activation='relu', input_shape=(32, 32, 3)))\n",
        "model.add(layers.MaxPooling2D((2, 2)))\n",
        "model.add(layers.Conv2D(64, (3, 3), activation='relu'))\n",
        "model.add(layers.MaxPooling2D((2, 2)))\n",
        "model.add(layers.Conv2D(64, (3, 3), activation='relu'))\n",
        "model.add(layers.Flatten())\n",
        "model.add(layers.Dense(64, activation='relu'))\n",
        "model.add(layers.Dense(10, activation='softmax'))"
      ],
      "metadata": {
        "id": "e8iFqfDC7w5f"
      },
      "execution_count": null,
      "outputs": []
    },
    {
      "cell_type": "code",
      "source": [
        "model.compile(optimizer=Adam(learning_rate=0.001),\n",
        "              loss='sparse_categorical_crossentropy',\n",
        "              metrics=['accuracy'])"
      ],
      "metadata": {
        "id": "_aMEEpSy704c"
      },
      "execution_count": null,
      "outputs": []
    },
    {
      "cell_type": "code",
      "source": [
        "history = model.fit(datagen.flow(train_images, train_labels, batch_size=32),\n",
        "                    epochs=10,\n",
        "                    validation_data=(val_images, val_labels))"
      ],
      "metadata": {
        "colab": {
          "base_uri": "https://localhost:8080/"
        },
        "id": "rDHWZaPO74A1",
        "outputId": "b21da6c3-cecc-46e8-affc-293017c19927"
      },
      "execution_count": null,
      "outputs": [
        {
          "output_type": "stream",
          "name": "stdout",
          "text": [
            "Epoch 1/10\n",
            "1250/1250 [==============================] - 83s 65ms/step - loss: 1.7879 - accuracy: 0.1071 - val_loss: 1.5485 - val_accuracy: 0.0843\n",
            "Epoch 2/10\n",
            "1250/1250 [==============================] - 82s 65ms/step - loss: 1.5256 - accuracy: 0.0977 - val_loss: 1.4365 - val_accuracy: 0.0499\n",
            "Epoch 3/10\n",
            "1250/1250 [==============================] - 83s 66ms/step - loss: 1.4065 - accuracy: 0.0980 - val_loss: 1.2394 - val_accuracy: 0.0649\n",
            "Epoch 4/10\n",
            "1250/1250 [==============================] - 81s 65ms/step - loss: 1.3323 - accuracy: 0.0969 - val_loss: 1.2287 - val_accuracy: 0.0666\n",
            "Epoch 5/10\n",
            "1250/1250 [==============================] - 87s 69ms/step - loss: 1.2806 - accuracy: 0.0990 - val_loss: 1.0935 - val_accuracy: 0.1304\n",
            "Epoch 6/10\n",
            "1250/1250 [==============================] - 81s 64ms/step - loss: 1.2295 - accuracy: 0.0984 - val_loss: 1.1978 - val_accuracy: 0.1107\n",
            "Epoch 7/10\n",
            "1250/1250 [==============================] - 82s 65ms/step - loss: 1.2011 - accuracy: 0.1010 - val_loss: 1.1465 - val_accuracy: 0.0861\n",
            "Epoch 8/10\n",
            "1250/1250 [==============================] - 82s 66ms/step - loss: 1.1654 - accuracy: 0.0984 - val_loss: 1.0224 - val_accuracy: 0.0728\n",
            "Epoch 9/10\n",
            "1250/1250 [==============================] - 80s 64ms/step - loss: 1.1459 - accuracy: 0.1002 - val_loss: 0.9515 - val_accuracy: 0.1128\n",
            "Epoch 10/10\n",
            "1250/1250 [==============================] - 81s 65ms/step - loss: 1.1216 - accuracy: 0.1000 - val_loss: 0.9993 - val_accuracy: 0.0904\n"
          ]
        }
      ]
    },
    {
      "cell_type": "code",
      "source": [
        "test_loss, test_acc = model.evaluate(test_images, test_labels)\n",
        "print(f'Test accuracy: {test_acc}')"
      ],
      "metadata": {
        "colab": {
          "base_uri": "https://localhost:8080/"
        },
        "id": "DGz2cRnU77dV",
        "outputId": "7ccbc94e-8e98-48b3-a9e8-4c97d7838141"
      },
      "execution_count": null,
      "outputs": [
        {
          "output_type": "stream",
          "name": "stdout",
          "text": [
            "313/313 [==============================] - 4s 12ms/step - loss: 1.0024 - accuracy: 0.0960\n",
            "Test accuracy: 0.09600000083446503\n"
          ]
        }
      ]
    },
    {
      "cell_type": "code",
      "source": [],
      "metadata": {
        "id": "mbKnLwSnAOu-"
      },
      "execution_count": null,
      "outputs": []
    }
  ]
}